{
  "nbformat": 4,
  "nbformat_minor": 0,
  "metadata": {
    "colab": {
      "name": "Copy of Untitled9.ipynb",
      "provenance": [],
      "collapsed_sections": [],
      "include_colab_link": true
    },
    "kernelspec": {
      "name": "python3",
      "display_name": "Python 3"
    },
    "accelerator": "TPU"
  },
  "cells": [
    {
      "cell_type": "markdown",
      "metadata": {
        "id": "view-in-github",
        "colab_type": "text"
      },
      "source": [
        "<a href=\"https://colab.research.google.com/github/varajan2007/public_vani/blob/master/lstm_glove_file.ipynb\" target=\"_parent\"><img src=\"https://colab.research.google.com/assets/colab-badge.svg\" alt=\"Open In Colab\"/></a>"
      ]
    },
    {
      "cell_type": "code",
      "metadata": {
        "id": "nhybFvwJIAcC",
        "colab_type": "code",
        "outputId": "f9bd1e09-b5d2-4065-b256-67810a9869c0",
        "colab": {
          "base_uri": "https://localhost:8080/",
          "height": 98
        }
      },
      "source": [
        "import tensorflow as tf\n",
        "print(tf.__version__)"
      ],
      "execution_count": 0,
      "outputs": [
        {
          "output_type": "display_data",
          "data": {
            "text/html": [
              "<p style=\"color: red;\">\n",
              "The default version of TensorFlow in Colab will soon switch to TensorFlow 2.x.<br>\n",
              "We recommend you <a href=\"https://www.tensorflow.org/guide/migrate\" target=\"_blank\">upgrade</a> now \n",
              "or ensure your notebook will continue to use TensorFlow 1.x via the <code>%tensorflow_version 1.x</code> magic:\n",
              "<a href=\"https://colab.research.google.com/notebooks/tensorflow_version.ipynb\" target=\"_blank\">more info</a>.</p>\n"
            ],
            "text/plain": [
              "<IPython.core.display.HTML object>"
            ]
          },
          "metadata": {
            "tags": []
          }
        },
        {
          "output_type": "stream",
          "text": [
            "1.15.0\n"
          ],
          "name": "stdout"
        }
      ]
    },
    {
      "cell_type": "code",
      "metadata": {
        "id": "6brLzcL_KJLi",
        "colab_type": "code",
        "colab": {}
      },
      "source": [
        ""
      ],
      "execution_count": 0,
      "outputs": []
    },
    {
      "cell_type": "code",
      "metadata": {
        "colab_type": "code",
        "id": "NeWVBhf1VxlH",
        "outputId": "950e33b3-d218-4cf4-ac4d-f397a183510c",
        "colab": {
          "base_uri": "https://localhost:8080/",
          "height": 34
        }
      },
      "source": [
        "%tensorflow_version 2.x"
      ],
      "execution_count": 0,
      "outputs": [
        {
          "output_type": "stream",
          "text": [
            "TensorFlow is already loaded. Please restart the runtime to change versions.\n"
          ],
          "name": "stdout"
        }
      ]
    },
    {
      "cell_type": "markdown",
      "metadata": {
        "id": "NnjBTOSjKQCf",
        "colab_type": "text"
      },
      "source": [
        "Selection tensor flow 2.o updated version\n"
      ]
    },
    {
      "cell_type": "code",
      "metadata": {
        "id": "LZBPZ5HW8GKo",
        "colab_type": "code",
        "colab": {}
      },
      "source": [
        "from google.colab import drive\n",
        "drive.mount('/content/drive')"
      ],
      "execution_count": 0,
      "outputs": []
    },
    {
      "cell_type": "code",
      "metadata": {
        "id": "tPvK2TlJKVN3",
        "colab_type": "code",
        "colab": {}
      },
      "source": [
        "import pandas as pd\n",
        "import numpy as np\n",
        "import matplotlib.pyplot as plt\n",
        "import os\n",
        "from sklearn.model_selection import train_test_split\n",
        "from tensorflow.keras.utils import to_categorical\n",
        "import math\n",
        "%matplotlib inline"
      ],
      "execution_count": 0,
      "outputs": []
    },
    {
      "cell_type": "code",
      "metadata": {
        "id": "nuLeAauPe-3U",
        "colab_type": "code",
        "outputId": "3d021d00-8751-4eea-f64c-0a3683fce4a3",
        "colab": {
          "base_uri": "https://localhost:8080/",
          "height": 34
        }
      },
      "source": [
        "!git clone https://github.com/varajan2007/public_vani.git"
      ],
      "execution_count": 0,
      "outputs": [
        {
          "output_type": "stream",
          "text": [
            "fatal: destination path 'public_vani' already exists and is not an empty directory.\n"
          ],
          "name": "stdout"
        }
      ]
    },
    {
      "cell_type": "code",
      "metadata": {
        "id": "bH-c_PLdgAoZ",
        "colab_type": "code",
        "colab": {}
      },
      "source": [
        "df = pd.read_csv(\"TweetsAirlines.csv\")"
      ],
      "execution_count": 0,
      "outputs": []
    },
    {
      "cell_type": "code",
      "metadata": {
        "id": "4NzNv7pbgzOi",
        "colab_type": "code",
        "outputId": "97246ce9-fa72-423f-e1bc-61cb2f81ba52",
        "colab": {
          "base_uri": "https://localhost:8080/",
          "height": 443
        }
      },
      "source": [
        "df.head()"
      ],
      "execution_count": 0,
      "outputs": [
        {
          "output_type": "execute_result",
          "data": {
            "text/html": [
              "<div>\n",
              "<style scoped>\n",
              "    .dataframe tbody tr th:only-of-type {\n",
              "        vertical-align: middle;\n",
              "    }\n",
              "\n",
              "    .dataframe tbody tr th {\n",
              "        vertical-align: top;\n",
              "    }\n",
              "\n",
              "    .dataframe thead th {\n",
              "        text-align: right;\n",
              "    }\n",
              "</style>\n",
              "<table border=\"1\" class=\"dataframe\">\n",
              "  <thead>\n",
              "    <tr style=\"text-align: right;\">\n",
              "      <th></th>\n",
              "      <th>tweet_id</th>\n",
              "      <th>airline_sentiment</th>\n",
              "      <th>airline_sentiment_confidence</th>\n",
              "      <th>negativereason</th>\n",
              "      <th>negativereason_confidence</th>\n",
              "      <th>airline</th>\n",
              "      <th>airline_sentiment_gold</th>\n",
              "      <th>name</th>\n",
              "      <th>negativereason_gold</th>\n",
              "      <th>retweet_count</th>\n",
              "      <th>text</th>\n",
              "      <th>tweet_coord</th>\n",
              "      <th>tweet_created</th>\n",
              "      <th>tweet_location</th>\n",
              "      <th>user_timezone</th>\n",
              "    </tr>\n",
              "  </thead>\n",
              "  <tbody>\n",
              "    <tr>\n",
              "      <th>0</th>\n",
              "      <td>570000000000000000</td>\n",
              "      <td>neutral</td>\n",
              "      <td>1.0000</td>\n",
              "      <td>NaN</td>\n",
              "      <td>NaN</td>\n",
              "      <td>Virgin America</td>\n",
              "      <td>NaN</td>\n",
              "      <td>cairdin</td>\n",
              "      <td>NaN</td>\n",
              "      <td>0</td>\n",
              "      <td>@VirginAmerica What @dhepburn said.</td>\n",
              "      <td>NaN</td>\n",
              "      <td>24-02-15 11:35</td>\n",
              "      <td>NaN</td>\n",
              "      <td>Eastern Time (US &amp; Canada)</td>\n",
              "    </tr>\n",
              "    <tr>\n",
              "      <th>1</th>\n",
              "      <td>570000000000000000</td>\n",
              "      <td>positive</td>\n",
              "      <td>0.3486</td>\n",
              "      <td>NaN</td>\n",
              "      <td>0.0000</td>\n",
              "      <td>Virgin America</td>\n",
              "      <td>NaN</td>\n",
              "      <td>jnardino</td>\n",
              "      <td>NaN</td>\n",
              "      <td>0</td>\n",
              "      <td>@VirginAmerica plus you've added commercials t...</td>\n",
              "      <td>NaN</td>\n",
              "      <td>24-02-15 11:15</td>\n",
              "      <td>NaN</td>\n",
              "      <td>Pacific Time (US &amp; Canada)</td>\n",
              "    </tr>\n",
              "    <tr>\n",
              "      <th>2</th>\n",
              "      <td>570000000000000000</td>\n",
              "      <td>neutral</td>\n",
              "      <td>0.6837</td>\n",
              "      <td>NaN</td>\n",
              "      <td>NaN</td>\n",
              "      <td>Virgin America</td>\n",
              "      <td>NaN</td>\n",
              "      <td>yvonnalynn</td>\n",
              "      <td>NaN</td>\n",
              "      <td>0</td>\n",
              "      <td>@VirginAmerica I didn't today... Must mean I n...</td>\n",
              "      <td>NaN</td>\n",
              "      <td>24-02-15 11:15</td>\n",
              "      <td>Lets Play</td>\n",
              "      <td>Central Time (US &amp; Canada)</td>\n",
              "    </tr>\n",
              "    <tr>\n",
              "      <th>3</th>\n",
              "      <td>570000000000000000</td>\n",
              "      <td>negative</td>\n",
              "      <td>1.0000</td>\n",
              "      <td>Bad Flight</td>\n",
              "      <td>0.7033</td>\n",
              "      <td>Virgin America</td>\n",
              "      <td>NaN</td>\n",
              "      <td>jnardino</td>\n",
              "      <td>NaN</td>\n",
              "      <td>0</td>\n",
              "      <td>@VirginAmerica it's really aggressive to blast...</td>\n",
              "      <td>NaN</td>\n",
              "      <td>24-02-15 11:15</td>\n",
              "      <td>NaN</td>\n",
              "      <td>Pacific Time (US &amp; Canada)</td>\n",
              "    </tr>\n",
              "    <tr>\n",
              "      <th>4</th>\n",
              "      <td>570000000000000000</td>\n",
              "      <td>negative</td>\n",
              "      <td>1.0000</td>\n",
              "      <td>Can't Tell</td>\n",
              "      <td>1.0000</td>\n",
              "      <td>Virgin America</td>\n",
              "      <td>NaN</td>\n",
              "      <td>jnardino</td>\n",
              "      <td>NaN</td>\n",
              "      <td>0</td>\n",
              "      <td>@VirginAmerica and it's a really big bad thing...</td>\n",
              "      <td>NaN</td>\n",
              "      <td>24-02-15 11:14</td>\n",
              "      <td>NaN</td>\n",
              "      <td>Pacific Time (US &amp; Canada)</td>\n",
              "    </tr>\n",
              "  </tbody>\n",
              "</table>\n",
              "</div>"
            ],
            "text/plain": [
              "             tweet_id  ...               user_timezone\n",
              "0  570000000000000000  ...  Eastern Time (US & Canada)\n",
              "1  570000000000000000  ...  Pacific Time (US & Canada)\n",
              "2  570000000000000000  ...  Central Time (US & Canada)\n",
              "3  570000000000000000  ...  Pacific Time (US & Canada)\n",
              "4  570000000000000000  ...  Pacific Time (US & Canada)\n",
              "\n",
              "[5 rows x 15 columns]"
            ]
          },
          "metadata": {
            "tags": []
          },
          "execution_count": 6
        }
      ]
    },
    {
      "cell_type": "code",
      "metadata": {
        "id": "X9wYLg8xg7Qy",
        "colab_type": "code",
        "outputId": "3bed3af1-9e6c-4c87-8319-f369050e9667",
        "colab": {
          "base_uri": "https://localhost:8080/",
          "height": 86
        }
      },
      "source": [
        "df.shape\n",
        "df.isnull().sum()\n",
        "df[['text', 'airline_sentiment']].head()\n",
        "df['airline_sentiment'].value_counts()"
      ],
      "execution_count": 0,
      "outputs": [
        {
          "output_type": "execute_result",
          "data": {
            "text/plain": [
              "negative    9178\n",
              "neutral     3099\n",
              "positive    2363\n",
              "Name: airline_sentiment, dtype: int64"
            ]
          },
          "metadata": {
            "tags": []
          },
          "execution_count": 7
        }
      ]
    },
    {
      "cell_type": "code",
      "metadata": {
        "id": "8_XBzr42IPVB",
        "colab_type": "code",
        "colab": {}
      },
      "source": [
        "df['airline_sentiment'] = df['airline_sentiment'].replace('neutral', 1)\n",
        "df['airline_sentiment'] = df['airline_sentiment'].replace('negative', 0)\n",
        "df['airline_sentiment'] = df['airline_sentiment'].replace('positive', 2)"
      ],
      "execution_count": 0,
      "outputs": []
    },
    {
      "cell_type": "code",
      "metadata": {
        "id": "XkB7RUPEhMpC",
        "colab_type": "code",
        "colab": {}
      },
      "source": [
        "from tensorflow.keras.preprocessing.text import Tokenizer\n",
        "from tensorflow.keras.preprocessing.text import text_to_word_sequence"
      ],
      "execution_count": 0,
      "outputs": []
    },
    {
      "cell_type": "code",
      "metadata": {
        "id": "F5x3bnmWhQge",
        "colab_type": "code",
        "colab": {}
      },
      "source": [
        "# Convert training data into tensors to feed into neural net\n",
        "# create tokenizer  Split into text and label\n",
        "X = df['text'] # data\n",
        "y = df['airline_sentiment'] # labels\n",
        "t = Tokenizer()\n",
        "t.fit_on_texts(X)"
      ],
      "execution_count": 0,
      "outputs": []
    },
    {
      "cell_type": "code",
      "metadata": {
        "id": "hJ2w023IhjBc",
        "colab_type": "code",
        "colab": {}
      },
      "source": [
        "vocab_size = len(t.word_index) + 1\n",
        "sequences = t.texts_to_sequences(X)\n",
        "# Find longest tweet in sequences\n",
        "def max_tweet():\n",
        "    for i in range(1, len(sequences)):\n",
        "        max_length = len(sequences[0])\n",
        "        if len(sequences[i]) > max_length:\n",
        "            max_length = len(sequences[i])\n",
        "    return max_length\n",
        "tweet_num = max_tweet()\n",
        "tweet_num\n",
        "# each review has a different number of words, so pad sequence with 0's\n",
        "# https://realpython.com/python-keras-text-classification/\n",
        "from tensorflow.keras.preprocessing.sequence import pad_sequences\n",
        "maxlen = tweet_num\n",
        "padded_X = pad_sequences(sequences, padding='post', maxlen=maxlen)"
      ],
      "execution_count": 0,
      "outputs": []
    },
    {
      "cell_type": "code",
      "metadata": {
        "id": "RO6s0wPhh1CE",
        "colab_type": "code",
        "colab": {}
      },
      "source": [
        "\n",
        "labels = to_categorical(np.asarray(y))\n",
        "from sklearn.model_selection import train_test_split\n",
        "\n",
        "X_train, X_test, y_train, y_test = train_test_split(padded_X, labels,\n",
        "                                                    test_size = 0.2, random_state = 0)"
      ],
      "execution_count": 0,
      "outputs": []
    },
    {
      "cell_type": "code",
      "metadata": {
        "id": "Y2mow2OSjXNU",
        "colab_type": "code",
        "colab": {}
      },
      "source": [
        "\n"
      ],
      "execution_count": 0,
      "outputs": []
    },
    {
      "cell_type": "code",
      "metadata": {
        "id": "ZweusbwWGxTK",
        "colab_type": "code",
        "outputId": "6f8b1504-5448-42fd-b69c-5f4ab0589c70",
        "colab": {
          "base_uri": "https://localhost:8080/",
          "height": 86
        }
      },
      "source": [
        "# Size of train and test datasets\n",
        "print('X_train size:', X_train.shape)\n",
        "print('y_train size:', y_train.shape)\n",
        "print('X_test size:', X_test.shape)\n",
        "print('y_test size:', y_test.shape)"
      ],
      "execution_count": 0,
      "outputs": [
        {
          "output_type": "stream",
          "text": [
            "X_train size: (11712, 30)\n",
            "y_train size: (11712, 3)\n",
            "X_test size: (2928, 30)\n",
            "y_test size: (2928, 3)\n"
          ],
          "name": "stdout"
        }
      ]
    },
    {
      "cell_type": "code",
      "metadata": {
        "id": "Z8Glw2TEJgo6",
        "colab_type": "code",
        "outputId": "b87c536c-a53f-447e-c5e5-5c62f7a749d2",
        "colab": {
          "base_uri": "https://localhost:8080/",
          "height": 34
        }
      },
      "source": [
        "# load the whole embedding into memory\n",
        "# https://machinelearningmastery.com/use-word-embedding-layers-deep-learning-keras/\n",
        "# 100 dimensional version (embedding dimension)\n",
        "embeddings_index = dict()\n",
        "f = open('glove.6B.100d.txt')\n",
        "for line in f:\n",
        "    values = line.split()\n",
        "    word = values[0]\n",
        "    coefs = np.asarray(values[1:], dtype='float32')\n",
        "    embeddings_index[word] = coefs\n",
        "f.close()\n",
        "print('Loaded %s word vectors.' % len(embeddings_index))"
      ],
      "execution_count": 0,
      "outputs": [
        {
          "output_type": "stream",
          "text": [
            "Loaded 3672 word vectors.\n"
          ],
          "name": "stdout"
        }
      ]
    },
    {
      "cell_type": "code",
      "metadata": {
        "id": "6IeXtyKrVDif",
        "colab_type": "code",
        "colab": {}
      },
      "source": [
        " #Because we're using GloVE, need to create a word embedding/word context matrix\n",
        "# Create a matrix of weights for words in the training set\n",
        "# One embedding for each word in the training set\n",
        "\n",
        "# Get all unique words in our training set: Tokenizer index\n",
        "# Find the corresponding weight vector in GloVe embedding\n",
        "\n",
        "# Define size of embedding matrix: number of unique words x embedding dim (100)\n",
        "embedding_matrix = np.zeros((vocab_size, 100))\n",
        "\n",
        "# fill in matrix\n",
        "for word, i in t.word_index.items():  # dictionary\n",
        "    embedding_vector = embeddings_index.get(word) # gets embedded vector of word from GloVe\n",
        "    if embedding_vector is not None:\n",
        "        # add to matrix\n",
        "        embedding_matrix[i] = embedding_vector # each row of matrix"
      ],
      "execution_count": 0,
      "outputs": []
    },
    {
      "cell_type": "code",
      "metadata": {
        "id": "bC748QkRVRmm",
        "colab_type": "code",
        "colab": {}
      },
      "source": [
        "# Create embedding layer using embedding matrix\n",
        "from tensorflow.keras.layers import Embedding\n",
        "\n",
        "# input is vocab_size, output is 100\n",
        "# weights from embedding matrix, set trainable = False\n",
        "embedding_layer = Embedding(input_dim=vocab_size, output_dim=100, weights=[embedding_matrix],\n",
        "                           input_length = tweet_num, trainable=False)"
      ],
      "execution_count": 0,
      "outputs": []
    },
    {
      "cell_type": "code",
      "metadata": {
        "id": "wMWENxpPVaVb",
        "colab_type": "code",
        "colab": {}
      },
      "source": [
        "from tensorflow.keras.models import Sequential\n",
        "from tensorflow.keras.layers import Dense\n",
        "from tensorflow.keras.layers import Flatten\n",
        "from tensorflow.keras.layers import LSTM\n",
        "from tensorflow.keras.layers import GRU\n",
        "from tensorflow.keras.layers import BatchNormalization"
      ],
      "execution_count": 0,
      "outputs": []
    },
    {
      "cell_type": "code",
      "metadata": {
        "id": "izG1_SnUVeCY",
        "colab_type": "code",
        "outputId": "043244c8-8512-47da-cc34-986f27e9717f",
        "colab": {
          "base_uri": "https://localhost:8080/",
          "height": 259
        }
      },
      "source": [
        "lstm_mod1 = Sequential()\n",
        "lstm_mod1.add(embedding_layer)\n",
        "lstm_mod1.add(LSTM(256, \n",
        "               dropout = 0.2, \n",
        "               recurrent_dropout = 0.5))\n",
        "lstm_mod1.add(Dense(3, activation='softmax'))\n",
        "lstm_mod1.compile(optimizer='adam', loss='categorical_crossentropy', metrics=['acc'])\n",
        "lstm_mod1.summary()"
      ],
      "execution_count": 0,
      "outputs": [
        {
          "output_type": "stream",
          "text": [
            "Model: \"sequential_1\"\n",
            "_________________________________________________________________\n",
            "Layer (type)                 Output Shape              Param #   \n",
            "=================================================================\n",
            "embedding (Embedding)        (None, 30, 100)           1576900   \n",
            "_________________________________________________________________\n",
            "lstm (LSTM)                  (None, 256)               365568    \n",
            "_________________________________________________________________\n",
            "dense (Dense)                (None, 3)                 771       \n",
            "=================================================================\n",
            "Total params: 1,943,239\n",
            "Trainable params: 366,339\n",
            "Non-trainable params: 1,576,900\n",
            "_________________________________________________________________\n"
          ],
          "name": "stdout"
        }
      ]
    },
    {
      "cell_type": "code",
      "metadata": {
        "id": "gBZk0JJyVlhW",
        "colab_type": "code",
        "outputId": "6d6710ae-9fc3-4706-dd25-33485b30776d",
        "colab": {
          "base_uri": "https://localhost:8080/",
          "height": 1000
        }
      },
      "source": [
        "hist_1 = lstm_mod1.fit(X_train, y_train,\n",
        "                    validation_split = 0.2,\n",
        "                    epochs=100, batch_size=256)"
      ],
      "execution_count": 0,
      "outputs": [
        {
          "output_type": "stream",
          "text": [
            "Train on 9369 samples, validate on 2343 samples\n",
            "Epoch 1/100\n",
            "9369/9369 [==============================] - 22s 2ms/sample - loss: 0.8681 - acc: 0.6172 - val_loss: 0.8385 - val_acc: 0.6270\n",
            "Epoch 2/100\n",
            "9369/9369 [==============================] - 19s 2ms/sample - loss: 0.8335 - acc: 0.6483 - val_loss: 0.7986 - val_acc: 0.6620\n",
            "Epoch 3/100\n",
            "9369/9369 [==============================] - 19s 2ms/sample - loss: 0.7945 - acc: 0.6711 - val_loss: 0.7444 - val_acc: 0.7059\n",
            "Epoch 4/100\n",
            "9369/9369 [==============================] - 19s 2ms/sample - loss: 0.7730 - acc: 0.6827 - val_loss: 0.7232 - val_acc: 0.7106\n",
            "Epoch 5/100\n",
            "9369/9369 [==============================] - 19s 2ms/sample - loss: 0.7597 - acc: 0.6873 - val_loss: 0.7155 - val_acc: 0.7055\n",
            "Epoch 6/100\n",
            "9369/9369 [==============================] - 19s 2ms/sample - loss: 0.7482 - acc: 0.6954 - val_loss: 0.7092 - val_acc: 0.7055\n",
            "Epoch 7/100\n",
            "9369/9369 [==============================] - 19s 2ms/sample - loss: 0.7433 - acc: 0.6947 - val_loss: 0.6899 - val_acc: 0.7209\n",
            "Epoch 8/100\n",
            "9369/9369 [==============================] - 20s 2ms/sample - loss: 0.7297 - acc: 0.7000 - val_loss: 0.6871 - val_acc: 0.7175\n",
            "Epoch 9/100\n",
            "9369/9369 [==============================] - 20s 2ms/sample - loss: 0.7333 - acc: 0.7033 - val_loss: 0.6911 - val_acc: 0.7226\n",
            "Epoch 10/100\n",
            "9369/9369 [==============================] - 20s 2ms/sample - loss: 0.7115 - acc: 0.7094 - val_loss: 0.6617 - val_acc: 0.7332\n",
            "Epoch 11/100\n",
            "9369/9369 [==============================] - 20s 2ms/sample - loss: 0.7055 - acc: 0.7067 - val_loss: 0.6827 - val_acc: 0.7192\n",
            "Epoch 12/100\n",
            "9369/9369 [==============================] - 20s 2ms/sample - loss: 0.7050 - acc: 0.7142 - val_loss: 0.6514 - val_acc: 0.7379\n",
            "Epoch 13/100\n",
            "9369/9369 [==============================] - 20s 2ms/sample - loss: 0.6935 - acc: 0.7192 - val_loss: 0.6506 - val_acc: 0.7414\n",
            "Epoch 14/100\n",
            "9369/9369 [==============================] - 20s 2ms/sample - loss: 0.6869 - acc: 0.7175 - val_loss: 0.6500 - val_acc: 0.7431\n",
            "Epoch 15/100\n",
            "9369/9369 [==============================] - 20s 2ms/sample - loss: 0.6851 - acc: 0.7197 - val_loss: 0.6412 - val_acc: 0.7426\n",
            "Epoch 16/100\n",
            "9369/9369 [==============================] - 20s 2ms/sample - loss: 0.6872 - acc: 0.7165 - val_loss: 0.6442 - val_acc: 0.7384\n",
            "Epoch 17/100\n",
            "9369/9369 [==============================] - 20s 2ms/sample - loss: 0.6740 - acc: 0.7268 - val_loss: 0.6392 - val_acc: 0.7443\n",
            "Epoch 18/100\n",
            "9369/9369 [==============================] - 20s 2ms/sample - loss: 0.6647 - acc: 0.7296 - val_loss: 0.6373 - val_acc: 0.7452\n",
            "Epoch 19/100\n",
            "9369/9369 [==============================] - 20s 2ms/sample - loss: 0.6625 - acc: 0.7305 - val_loss: 0.6292 - val_acc: 0.7439\n",
            "Epoch 20/100\n",
            "9369/9369 [==============================] - 20s 2ms/sample - loss: 0.6548 - acc: 0.7337 - val_loss: 0.6210 - val_acc: 0.7537\n",
            "Epoch 21/100\n",
            "9369/9369 [==============================] - 19s 2ms/sample - loss: 0.6539 - acc: 0.7322 - val_loss: 0.6209 - val_acc: 0.7554\n",
            "Epoch 22/100\n",
            "9369/9369 [==============================] - 20s 2ms/sample - loss: 0.6474 - acc: 0.7349 - val_loss: 0.6327 - val_acc: 0.7563\n",
            "Epoch 23/100\n",
            "9369/9369 [==============================] - 20s 2ms/sample - loss: 0.6416 - acc: 0.7385 - val_loss: 0.6275 - val_acc: 0.7486\n",
            "Epoch 24/100\n",
            "9369/9369 [==============================] - 20s 2ms/sample - loss: 0.6457 - acc: 0.7326 - val_loss: 0.6143 - val_acc: 0.7597\n",
            "Epoch 25/100\n",
            "9369/9369 [==============================] - 20s 2ms/sample - loss: 0.6417 - acc: 0.7343 - val_loss: 0.6215 - val_acc: 0.7533\n",
            "Epoch 26/100\n",
            "9369/9369 [==============================] - 20s 2ms/sample - loss: 0.6252 - acc: 0.7475 - val_loss: 0.6021 - val_acc: 0.7623\n",
            "Epoch 27/100\n",
            "9369/9369 [==============================] - 20s 2ms/sample - loss: 0.6200 - acc: 0.7469 - val_loss: 0.6123 - val_acc: 0.7601\n",
            "Epoch 28/100\n",
            "9369/9369 [==============================] - 20s 2ms/sample - loss: 0.6237 - acc: 0.7461 - val_loss: 0.6181 - val_acc: 0.7495\n",
            "Epoch 29/100\n",
            "9369/9369 [==============================] - 20s 2ms/sample - loss: 0.6200 - acc: 0.7491 - val_loss: 0.6111 - val_acc: 0.7584\n",
            "Epoch 30/100\n",
            "9369/9369 [==============================] - 20s 2ms/sample - loss: 0.6108 - acc: 0.7558 - val_loss: 0.6007 - val_acc: 0.7665\n",
            "Epoch 31/100\n",
            "9369/9369 [==============================] - 20s 2ms/sample - loss: 0.6130 - acc: 0.7524 - val_loss: 0.5971 - val_acc: 0.7618\n",
            "Epoch 32/100\n",
            "9369/9369 [==============================] - 20s 2ms/sample - loss: 0.6066 - acc: 0.7543 - val_loss: 0.5983 - val_acc: 0.7623\n",
            "Epoch 33/100\n",
            "9369/9369 [==============================] - 20s 2ms/sample - loss: 0.5999 - acc: 0.7592 - val_loss: 0.6000 - val_acc: 0.7627\n",
            "Epoch 34/100\n",
            "9369/9369 [==============================] - 20s 2ms/sample - loss: 0.5941 - acc: 0.7575 - val_loss: 0.5941 - val_acc: 0.7631\n",
            "Epoch 35/100\n",
            "9369/9369 [==============================] - 20s 2ms/sample - loss: 0.5917 - acc: 0.7597 - val_loss: 0.6032 - val_acc: 0.7614\n",
            "Epoch 36/100\n",
            "9369/9369 [==============================] - 20s 2ms/sample - loss: 0.5902 - acc: 0.7640 - val_loss: 0.5925 - val_acc: 0.7682\n",
            "Epoch 37/100\n",
            "9369/9369 [==============================] - 20s 2ms/sample - loss: 0.5822 - acc: 0.7608 - val_loss: 0.5901 - val_acc: 0.7648\n",
            "Epoch 38/100\n",
            "9369/9369 [==============================] - 20s 2ms/sample - loss: 0.5805 - acc: 0.7628 - val_loss: 0.5877 - val_acc: 0.7687\n",
            "Epoch 39/100\n",
            "9369/9369 [==============================] - 20s 2ms/sample - loss: 0.5714 - acc: 0.7666 - val_loss: 0.5863 - val_acc: 0.7700\n",
            "Epoch 40/100\n",
            "9369/9369 [==============================] - 20s 2ms/sample - loss: 0.5713 - acc: 0.7696 - val_loss: 0.5937 - val_acc: 0.7665\n",
            "Epoch 41/100\n",
            "9369/9369 [==============================] - 20s 2ms/sample - loss: 0.5716 - acc: 0.7699 - val_loss: 0.5890 - val_acc: 0.7717\n",
            "Epoch 42/100\n",
            "9369/9369 [==============================] - 20s 2ms/sample - loss: 0.5719 - acc: 0.7689 - val_loss: 0.5908 - val_acc: 0.7631\n",
            "Epoch 43/100\n",
            "9369/9369 [==============================] - 20s 2ms/sample - loss: 0.5649 - acc: 0.7718 - val_loss: 0.5925 - val_acc: 0.7657\n",
            "Epoch 44/100\n",
            "9369/9369 [==============================] - 20s 2ms/sample - loss: 0.5565 - acc: 0.7760 - val_loss: 0.5801 - val_acc: 0.7717\n",
            "Epoch 45/100\n",
            "9369/9369 [==============================] - 19s 2ms/sample - loss: 0.5587 - acc: 0.7757 - val_loss: 0.5791 - val_acc: 0.7691\n",
            "Epoch 46/100\n",
            "9369/9369 [==============================] - 19s 2ms/sample - loss: 0.5584 - acc: 0.7751 - val_loss: 0.5770 - val_acc: 0.7751\n",
            "Epoch 47/100\n",
            "9369/9369 [==============================] - 19s 2ms/sample - loss: 0.5516 - acc: 0.7787 - val_loss: 0.5746 - val_acc: 0.7708\n",
            "Epoch 48/100\n",
            "9369/9369 [==============================] - 19s 2ms/sample - loss: 0.5455 - acc: 0.7815 - val_loss: 0.5740 - val_acc: 0.7704\n",
            "Epoch 49/100\n",
            "9369/9369 [==============================] - 19s 2ms/sample - loss: 0.5406 - acc: 0.7817 - val_loss: 0.5899 - val_acc: 0.7657\n",
            "Epoch 50/100\n",
            "9369/9369 [==============================] - 19s 2ms/sample - loss: 0.5383 - acc: 0.7799 - val_loss: 0.5732 - val_acc: 0.7742\n",
            "Epoch 51/100\n",
            "9369/9369 [==============================] - 20s 2ms/sample - loss: 0.5335 - acc: 0.7834 - val_loss: 0.5799 - val_acc: 0.7695\n",
            "Epoch 52/100\n",
            "9369/9369 [==============================] - 19s 2ms/sample - loss: 0.5375 - acc: 0.7887 - val_loss: 0.5746 - val_acc: 0.7751\n",
            "Epoch 53/100\n",
            "9369/9369 [==============================] - 19s 2ms/sample - loss: 0.5325 - acc: 0.7820 - val_loss: 0.5815 - val_acc: 0.7691\n",
            "Epoch 54/100\n",
            "9369/9369 [==============================] - 20s 2ms/sample - loss: 0.5305 - acc: 0.7871 - val_loss: 0.5733 - val_acc: 0.7751\n",
            "Epoch 55/100\n",
            "6656/9369 [====================>.........] - ETA: 5s - loss: 0.5204 - acc: 0.7934"
          ],
          "name": "stdout"
        }
      ]
    }
  ]
}